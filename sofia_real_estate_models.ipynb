{
 "cells": [
  {
   "cell_type": "code",
   "execution_count": 26,
   "id": "3c0eb7e1",
   "metadata": {},
   "outputs": [],
   "source": [
    "import pandas as pd\n",
    "import numpy as np"
   ]
  },
  {
   "cell_type": "code",
   "execution_count": 28,
   "id": "9590dfba",
   "metadata": {},
   "outputs": [
    {
     "data": {
      "text/html": [
       "<div>\n",
       "<style scoped>\n",
       "    .dataframe tbody tr th:only-of-type {\n",
       "        vertical-align: middle;\n",
       "    }\n",
       "\n",
       "    .dataframe tbody tr th {\n",
       "        vertical-align: top;\n",
       "    }\n",
       "\n",
       "    .dataframe thead th {\n",
       "        text-align: right;\n",
       "    }\n",
       "</style>\n",
       "<table border=\"1\" class=\"dataframe\">\n",
       "  <thead>\n",
       "    <tr style=\"text-align: right;\">\n",
       "      <th></th>\n",
       "      <th>price_total</th>\n",
       "      <th>location</th>\n",
       "      <th>property_type</th>\n",
       "      <th>square_meters</th>\n",
       "      <th>construction_type</th>\n",
       "      <th>construction_year</th>\n",
       "      <th>floor_number</th>\n",
       "      <th>floor_type</th>\n",
       "    </tr>\n",
       "  </thead>\n",
       "  <tbody>\n",
       "    <tr>\n",
       "      <th>0</th>\n",
       "      <td>246255</td>\n",
       "      <td>Малинова Долина, София</td>\n",
       "      <td>Многостаен апартамент в София</td>\n",
       "      <td>141</td>\n",
       "      <td>Тухла</td>\n",
       "      <td>2025</td>\n",
       "      <td>1 етаж</td>\n",
       "      <td>Първи жилищен</td>\n",
       "    </tr>\n",
       "    <tr>\n",
       "      <th>1</th>\n",
       "      <td>236305</td>\n",
       "      <td>Бояна, София</td>\n",
       "      <td>Мезонет</td>\n",
       "      <td>134</td>\n",
       "      <td>Тухла</td>\n",
       "      <td>Not Available</td>\n",
       "      <td>Not Available</td>\n",
       "      <td>Not Available</td>\n",
       "    </tr>\n",
       "    <tr>\n",
       "      <th>2</th>\n",
       "      <td>239865</td>\n",
       "      <td>Бояна, София</td>\n",
       "      <td>Тристаен апартамент в София</td>\n",
       "      <td>113</td>\n",
       "      <td>Тухла</td>\n",
       "      <td>Not Available</td>\n",
       "      <td>2 етаж</td>\n",
       "      <td>Not Available</td>\n",
       "    </tr>\n",
       "    <tr>\n",
       "      <th>3</th>\n",
       "      <td>160000</td>\n",
       "      <td>Зона Б18, София</td>\n",
       "      <td>Двустаен апартамент в София</td>\n",
       "      <td>57</td>\n",
       "      <td>Тухла</td>\n",
       "      <td>2005</td>\n",
       "      <td>7 етаж</td>\n",
       "      <td>Непоследен</td>\n",
       "    </tr>\n",
       "    <tr>\n",
       "      <th>4</th>\n",
       "      <td>240000</td>\n",
       "      <td>Дружба 1, София</td>\n",
       "      <td>Тристаен апартамент в София</td>\n",
       "      <td>87</td>\n",
       "      <td>ЕПК/ПК</td>\n",
       "      <td>1987</td>\n",
       "      <td>9 етаж</td>\n",
       "      <td>Непоследен</td>\n",
       "    </tr>\n",
       "  </tbody>\n",
       "</table>\n",
       "</div>"
      ],
      "text/plain": [
       "  price_total                location                  property_type  \\\n",
       "0      246255  Малинова Долина, София  Многостаен апартамент в София   \n",
       "1      236305            Бояна, София                        Мезонет   \n",
       "2      239865            Бояна, София    Тристаен апартамент в София   \n",
       "3      160000         Зона Б18, София    Двустаен апартамент в София   \n",
       "4      240000         Дружба 1, София    Тристаен апартамент в София   \n",
       "\n",
       "  square_meters construction_type construction_year   floor_number  \\\n",
       "0           141             Тухла              2025         1 етаж   \n",
       "1           134             Тухла     Not Available  Not Available   \n",
       "2           113             Тухла     Not Available         2 етаж   \n",
       "3            57             Тухла              2005         7 етаж   \n",
       "4            87            ЕПК/ПК              1987         9 етаж   \n",
       "\n",
       "      floor_type  \n",
       "0  Първи жилищен  \n",
       "1  Not Available  \n",
       "2  Not Available  \n",
       "3     Непоследен  \n",
       "4     Непоследен  "
      ]
     },
     "execution_count": 28,
     "metadata": {},
     "output_type": "execute_result"
    }
   ],
   "source": [
    "df = pd.read_csv(\"sofia_real_estate.csv\")\n",
    "df.head()"
   ]
  },
  {
   "cell_type": "code",
   "execution_count": 30,
   "id": "8820bf38",
   "metadata": {},
   "outputs": [],
   "source": [
    "df.replace(\"Not Available\", np.nan, inplace=True)\n",
    "\n",
    "def only_digits(word):\n",
    "    return \"\".join(ch for ch in str(word) if ch.isdigit())\n",
    "\n",
    "num_cols_raw = [\"square_meters\", \"construction_year\", \"floor_number\"]\n",
    "for col in num_cols_raw:\n",
    "    df[col] = df[col].apply(only_digits).replace(\"\", np.nan).astype(float)\n",
    "\n",
    "df[\"location\"] = df[\"location\"].str.split(\",\").str[0].str.strip()\n",
    "df[\"property_type\"] = df[\"property_type\"].str.split().str[0]"
   ]
  },
  {
   "cell_type": "code",
   "execution_count": 32,
   "id": "6be511b8",
   "metadata": {},
   "outputs": [],
   "source": [
    "df[\"price_total\"] = pd.to_numeric(df[\"price_total\"], errors=\"coerce\")\n",
    "\n",
    "p99 = df[\"price_total\"].quantile(0.99)\n",
    "df = df[df[\"price_total\"] < p99]\n",
    "\n",
    "df = df.dropna(subset=[\"price_total\"])"
   ]
  },
  {
   "cell_type": "code",
   "execution_count": 34,
   "id": "7f3e1759-9e88-4172-a824-16cddf307a98",
   "metadata": {},
   "outputs": [
    {
     "data": {
      "text/html": [
       "<div>\n",
       "<style scoped>\n",
       "    .dataframe tbody tr th:only-of-type {\n",
       "        vertical-align: middle;\n",
       "    }\n",
       "\n",
       "    .dataframe tbody tr th {\n",
       "        vertical-align: top;\n",
       "    }\n",
       "\n",
       "    .dataframe thead th {\n",
       "        text-align: right;\n",
       "    }\n",
       "</style>\n",
       "<table border=\"1\" class=\"dataframe\">\n",
       "  <thead>\n",
       "    <tr style=\"text-align: right;\">\n",
       "      <th></th>\n",
       "      <th>price_total</th>\n",
       "      <th>location</th>\n",
       "      <th>property_type</th>\n",
       "      <th>square_meters</th>\n",
       "      <th>construction_type</th>\n",
       "      <th>construction_year</th>\n",
       "      <th>floor_number</th>\n",
       "      <th>floor_type</th>\n",
       "    </tr>\n",
       "  </thead>\n",
       "  <tbody>\n",
       "    <tr>\n",
       "      <th>0</th>\n",
       "      <td>246255.0</td>\n",
       "      <td>Малинова Долина</td>\n",
       "      <td>Многостаен</td>\n",
       "      <td>141.0</td>\n",
       "      <td>Тухла</td>\n",
       "      <td>2025.0</td>\n",
       "      <td>1.0</td>\n",
       "      <td>Първи жилищен</td>\n",
       "    </tr>\n",
       "    <tr>\n",
       "      <th>1</th>\n",
       "      <td>236305.0</td>\n",
       "      <td>Бояна</td>\n",
       "      <td>Мезонет</td>\n",
       "      <td>134.0</td>\n",
       "      <td>Тухла</td>\n",
       "      <td>NaN</td>\n",
       "      <td>NaN</td>\n",
       "      <td>NaN</td>\n",
       "    </tr>\n",
       "    <tr>\n",
       "      <th>2</th>\n",
       "      <td>239865.0</td>\n",
       "      <td>Бояна</td>\n",
       "      <td>Тристаен</td>\n",
       "      <td>113.0</td>\n",
       "      <td>Тухла</td>\n",
       "      <td>NaN</td>\n",
       "      <td>2.0</td>\n",
       "      <td>NaN</td>\n",
       "    </tr>\n",
       "    <tr>\n",
       "      <th>3</th>\n",
       "      <td>160000.0</td>\n",
       "      <td>Зона Б18</td>\n",
       "      <td>Двустаен</td>\n",
       "      <td>57.0</td>\n",
       "      <td>Тухла</td>\n",
       "      <td>2005.0</td>\n",
       "      <td>7.0</td>\n",
       "      <td>Непоследен</td>\n",
       "    </tr>\n",
       "    <tr>\n",
       "      <th>4</th>\n",
       "      <td>240000.0</td>\n",
       "      <td>Дружба 1</td>\n",
       "      <td>Тристаен</td>\n",
       "      <td>87.0</td>\n",
       "      <td>ЕПК/ПК</td>\n",
       "      <td>1987.0</td>\n",
       "      <td>9.0</td>\n",
       "      <td>Непоследен</td>\n",
       "    </tr>\n",
       "  </tbody>\n",
       "</table>\n",
       "</div>"
      ],
      "text/plain": [
       "   price_total         location property_type  square_meters  \\\n",
       "0     246255.0  Малинова Долина    Многостаен          141.0   \n",
       "1     236305.0            Бояна       Мезонет          134.0   \n",
       "2     239865.0            Бояна      Тристаен          113.0   \n",
       "3     160000.0         Зона Б18      Двустаен           57.0   \n",
       "4     240000.0         Дружба 1      Тристаен           87.0   \n",
       "\n",
       "  construction_type  construction_year  floor_number     floor_type  \n",
       "0             Тухла             2025.0           1.0  Първи жилищен  \n",
       "1             Тухла                NaN           NaN            NaN  \n",
       "2             Тухла                NaN           2.0            NaN  \n",
       "3             Тухла             2005.0           7.0     Непоследен  \n",
       "4            ЕПК/ПК             1987.0           9.0     Непоследен  "
      ]
     },
     "execution_count": 34,
     "metadata": {},
     "output_type": "execute_result"
    }
   ],
   "source": [
    "df.head()"
   ]
  },
  {
   "cell_type": "code",
   "execution_count": 36,
   "id": "2129ac09-506b-4084-99e5-fb8abd5c5f09",
   "metadata": {},
   "outputs": [],
   "source": [
    "df.to_csv(\"cleaned_sofia_real_estate.csv\", index=False, encoding=\"utf-8\")"
   ]
  },
  {
   "cell_type": "code",
   "execution_count": 40,
   "id": "0f1037e8-f529-42e6-86c8-958b1bd20eb6",
   "metadata": {},
   "outputs": [],
   "source": [
    "from sklearn.model_selection import train_test_split, cross_val_score\n",
    "from sklearn.compose import ColumnTransformer\n",
    "from sklearn.pipeline import Pipeline\n",
    "from sklearn.preprocessing import OneHotEncoder, StandardScaler\n",
    "from sklearn.impute import SimpleImputer\n",
    "from sklearn.metrics import r2_score, root_mean_squared_error, mean_absolute_error\n",
    "from sklearn.linear_model import LinearRegression\n",
    "from sklearn.ensemble import RandomForestRegressor"
   ]
  },
  {
   "cell_type": "code",
   "execution_count": 42,
   "id": "7277cacd-d63d-4f86-a249-f35d2d9c2e59",
   "metadata": {},
   "outputs": [
    {
     "name": "stdout",
     "output_type": "stream",
     "text": [
      "Preprocessing pipelines created\n"
     ]
    }
   ],
   "source": [
    "num_cols = [\"square_meters\", \"construction_year\", \"floor_number\"]\n",
    "cat_cols = [\"location\", \"property_type\", \"construction_type\", \"floor_type\"]\n",
    "\n",
    "numeric_pipe = Pipeline([\n",
    "    (\"imputer\", SimpleImputer(strategy=\"median\")),\n",
    "    (\"scaler\", StandardScaler())\n",
    "])\n",
    "\n",
    "categorical_pipe = Pipeline([\n",
    "    (\"imputer\", SimpleImputer(strategy=\"most_frequent\")),\n",
    "    (\"ohe\", OneHotEncoder(handle_unknown=\"ignore\", min_frequency=20))\n",
    "])\n",
    "\n",
    "preprocess = ColumnTransformer([\n",
    "    (\"num\", numeric_pipe, num_cols),\n",
    "    (\"cat\", categorical_pipe, cat_cols)\n",
    "])\n",
    "\n",
    "print(\"Preprocessing pipelines created\")"
   ]
  },
  {
   "cell_type": "code",
   "execution_count": 44,
   "id": "232a10d2-5a1c-4dde-a31e-51e5286eb158",
   "metadata": {},
   "outputs": [
    {
     "name": "stdout",
     "output_type": "stream",
     "text": [
      "Data split completed:\n",
      "Training set: 6340 samples\n",
      "Test set: 1586 samples\n",
      "Features: 7\n"
     ]
    }
   ],
   "source": [
    "X = df.drop('price_total', axis=1)\n",
    "y = df['price_total']\n",
    "\n",
    "X_train, X_test, y_train, y_test = train_test_split(X, y, test_size=0.2, random_state=42)\n",
    "\n",
    "print(f\"Data split completed:\")\n",
    "print(f\"Training set: {X_train.shape[0]} samples\")\n",
    "print(f\"Test set: {X_test.shape[0]} samples\")\n",
    "print(f\"Features: {X_train.shape[1]}\")"
   ]
  },
  {
   "cell_type": "code",
   "execution_count": 46,
   "id": "7835cc53-4dac-49c6-bb84-2f2fadc797df",
   "metadata": {},
   "outputs": [
    {
     "name": "stdout",
     "output_type": "stream",
     "text": [
      "Models defined:\n",
      "- Linear Regression\n",
      "- Random Forest\n"
     ]
    }
   ],
   "source": [
    "models = {}\n",
    "results = {}\n",
    "\n",
    "lr_pipeline = Pipeline([\n",
    "    (\"prep\", preprocess),\n",
    "    (\"reg\", LinearRegression())\n",
    "])\n",
    "models['Linear Regression'] = lr_pipeline\n",
    "\n",
    "rf_pipeline = Pipeline([\n",
    "    (\"prep\", preprocess),\n",
    "    (\"reg\", RandomForestRegressor(n_estimators=300, random_state=42, n_jobs=-1))\n",
    "])\n",
    "models['Random Forest'] = rf_pipeline\n",
    "\n",
    "print(\"Models defined:\")\n",
    "for name in models.keys():\n",
    "    print(f\"- {name}\")"
   ]
  },
  {
   "cell_type": "code",
   "execution_count": 48,
   "id": "b14c28a0-44f3-459b-906c-896b6e861848",
   "metadata": {},
   "outputs": [
    {
     "name": "stdout",
     "output_type": "stream",
     "text": [
      "Cross-validation function defined\n"
     ]
    }
   ],
   "source": [
    "def evaluate_model_cv(name, pipeline, X_train, y_train, cv_folds=5):\n",
    "    \"\"\"Evaluate model using cross-validation\"\"\"\n",
    "    print(f\"Evaluating {name} with Cross-Validation\")\n",
    "    \n",
    "    cv_r2_scores = cross_val_score(pipeline, X_train, y_train, cv=cv_folds, scoring='r2')\n",
    "    cv_rmse_scores = -cross_val_score(pipeline, X_train, y_train, cv=cv_folds, scoring='neg_root_mean_squared_error')\n",
    "    \n",
    "    print(f\"Cross-Validation Results ({cv_folds}-fold):\")\n",
    "    print(f\"R² scores: {cv_r2_scores}\")\n",
    "    print(f\"R² mean: {cv_r2_scores.mean():.4f}\")\n",
    "    print(f\"RMSE mean: {cv_rmse_scores.mean():.0f} EUR\")\n",
    "    \n",
    "    return {\n",
    "        'cv_r2_scores': cv_r2_scores,\n",
    "        'cv_r2_mean': cv_r2_scores.mean(),\n",
    "        'cv_rmse_scores': cv_rmse_scores,\n",
    "        'cv_rmse_mean': cv_rmse_scores.mean()\n",
    "    }\n",
    "\n",
    "print(\"Cross-validation function defined\")"
   ]
  },
  {
   "cell_type": "code",
   "execution_count": 50,
   "id": "76974fe1-97d1-4aa5-99fe-414bd2826b35",
   "metadata": {},
   "outputs": [
    {
     "name": "stdout",
     "output_type": "stream",
     "text": [
      "Starting Linear Regression evaluation...\n",
      "Evaluating Linear Regression with Cross-Validation\n",
      "Cross-Validation Results (5-fold):\n",
      "R² scores: [0.62967607 0.62808313 0.62867868 0.64648939 0.63904848]\n",
      "R² mean: 0.6344\n",
      "RMSE mean: 77377 EUR\n",
      "\n",
      "Test Set Results:\n",
      "R²: 0.6284\n",
      "RMSE: 78367 EUR\n",
      "MAE: 55168 EUR\n"
     ]
    }
   ],
   "source": [
    "print(\"Starting Linear Regression evaluation...\")\n",
    "\n",
    "lr_cv_results = evaluate_model_cv('Linear Regression', models['Linear Regression'], X_train, y_train)\n",
    "\n",
    "models['Linear Regression'].fit(X_train, y_train)\n",
    "\n",
    "y_pred_lr = models['Linear Regression'].predict(X_test)\n",
    "\n",
    "lr_test_r2 = r2_score(y_test, y_pred_lr)\n",
    "lr_test_rmse = root_mean_squared_error(y_test, y_pred_lr)\n",
    "lr_test_mae = mean_absolute_error(y_test, y_pred_lr)\n",
    "\n",
    "print(f\"\\nTest Set Results:\")\n",
    "print(f\"R²: {lr_test_r2:.4f}\")\n",
    "print(f\"RMSE: {lr_test_rmse:.0f} EUR\")\n",
    "print(f\"MAE: {lr_test_mae:.0f} EUR\")\n",
    "\n",
    "results['Linear Regression'] = {\n",
    "    **lr_cv_results,\n",
    "    'test_r2': lr_test_r2,\n",
    "    'test_rmse': lr_test_rmse,\n",
    "    'test_mae': lr_test_mae,\n",
    "    'predictions': y_pred_lr,\n",
    "    'pipeline': models['Linear Regression']\n",
    "}"
   ]
  },
  {
   "cell_type": "code",
   "execution_count": 52,
   "id": "eb9ff3be-f37f-4ff0-992d-a777bea7cd31",
   "metadata": {},
   "outputs": [
    {
     "name": "stdout",
     "output_type": "stream",
     "text": [
      "Starting Random Forest evaluation...\n",
      "Evaluating Random Forest with Cross-Validation\n",
      "Cross-Validation Results (5-fold):\n",
      "R² scores: [0.75923095 0.79421704 0.77356906 0.75555013 0.80933409]\n",
      "R² mean: 0.7784\n",
      "RMSE mean: 60113 EUR\n",
      "\n",
      "Test Set Results:\n",
      "R²: 0.7866\n",
      "RMSE: 59385 EUR\n",
      "MAE: 36354 EUR\n"
     ]
    }
   ],
   "source": [
    "print(\"Starting Random Forest evaluation...\")\n",
    "\n",
    "rf_cv_results = evaluate_model_cv('Random Forest', models['Random Forest'], X_train, y_train)\n",
    "\n",
    "models['Random Forest'].fit(X_train, y_train)\n",
    "\n",
    "y_pred_rf = models['Random Forest'].predict(X_test)\n",
    "\n",
    "rf_test_r2 = r2_score(y_test, y_pred_rf)\n",
    "rf_test_rmse = root_mean_squared_error(y_test, y_pred_rf)\n",
    "rf_test_mae = mean_absolute_error(y_test, y_pred_rf)\n",
    "\n",
    "print(f\"\\nTest Set Results:\")\n",
    "print(f\"R²: {rf_test_r2:.4f}\")\n",
    "print(f\"RMSE: {rf_test_rmse:.0f} EUR\")\n",
    "print(f\"MAE: {rf_test_mae:.0f} EUR\")\n",
    "\n",
    "results['Random Forest'] = {\n",
    "    **rf_cv_results,\n",
    "    'test_r2': rf_test_r2,\n",
    "    'test_rmse': rf_test_rmse,\n",
    "    'test_mae': rf_test_mae,\n",
    "    'predictions': y_pred_rf,\n",
    "    'pipeline': models['Random Forest']\n",
    "}"
   ]
  },
  {
   "cell_type": "code",
   "execution_count": 53,
   "id": "8d6513e8-7ddc-45e8-b839-95c93e253e67",
   "metadata": {},
   "outputs": [
    {
     "data": {
      "text/plain": [
       "['best_real_estate_model.pkl']"
      ]
     },
     "execution_count": 53,
     "metadata": {},
     "output_type": "execute_result"
    }
   ],
   "source": [
    "import joblib\n",
    "\n",
    "best_pipeline = results['Random Forest']['pipeline']\n",
    "joblib.dump(best_pipeline, 'best_real_estate_model.pkl')"
   ]
  },
  {
   "cell_type": "code",
   "execution_count": 68,
   "id": "347bcf4d-17f1-4f89-a3fc-fb7c8be32887",
   "metadata": {},
   "outputs": [
    {
     "name": "stdout",
     "output_type": "stream",
     "text": [
      "Top 10 Feature Importances:\n",
      "                     feature  importance\n",
      "0              square_meters    0.546536\n",
      "68  property_type_Многостаен    0.087750\n",
      "1          construction_year    0.050705\n",
      "2               floor_number    0.048889\n",
      "65    property_type_Двустаен    0.032159\n",
      "25          location_Лозенец    0.032152\n",
      "61           location_Център    0.029492\n",
      "21    location_Кръстова Вада    0.022209\n",
      "44          location_Оборище    0.016881\n",
      "29          location_Люлин 5    0.009068\n"
     ]
    },
    {
     "name": "stderr",
     "output_type": "stream",
     "text": [
      "C:\\Users\\vvale\\AppData\\Local\\Temp\\ipykernel_5916\\450274115.py:27: FutureWarning: \n",
      "\n",
      "Passing `palette` without assigning `hue` is deprecated and will be removed in v0.14.0. Assign the `y` variable to `hue` and set `legend=False` for the same effect.\n",
      "\n",
      "  sns.barplot(data=top_features, x='importance', y='feature', palette='viridis')\n"
     ]
    },
    {
     "data": {
      "image/png": "[encoded data removed]",
      "text/plain": [
       "<Figure size 800x600 with 1 Axes>"
      ]
     },
     "metadata": {},
     "output_type": "display_data"
    }
   ],
   "source": [
    "import matplotlib.pyplot as plt\n",
    "import seaborn as sns\n",
    "\n",
    "rf_model = best_pipeline.named_steps['reg']\n",
    "\n",
    "preprocessor = best_pipeline.named_steps['prep']\n",
    "\n",
    "num_feature_names = num_cols\n",
    "\n",
    "cat_feature_names = []\n",
    "ohe = preprocessor.named_transformers_['cat'].named_steps['ohe']\n",
    "cat_features_encoded = ohe.get_feature_names_out(cat_cols)\n",
    "cat_feature_names.extend(cat_features_encoded)\n",
    "\n",
    "all_feature_names = num_feature_names + list(cat_feature_names)\n",
    "\n",
    "feature_importance = pd.DataFrame({\n",
    "    'feature': all_feature_names,\n",
    "    'importance': rf_model.feature_importances_\n",
    "}).sort_values('importance', ascending=False)\n",
    "\n",
    "print(\"Top 10 Feature Importances:\")\n",
    "print(feature_importance.head(10))\n",
    "\n",
    "plt.figure(figsize=(8, 6))\n",
    "top_features = feature_importance.head(10)\n",
    "sns.barplot(data=top_features, x='importance', y='feature', palette='viridis')\n",
    "plt.title('Top 10 Feature Importances - Random Forest Model', fontsize=12, fontweight='bold')\n",
    "plt.xlabel('Importance', fontsize=10)\n",
    "plt.ylabel('Features', fontsize=10)\n",
    "plt.tight_layout()\n",
    "plt.show()"
   ]
  },
  {
   "cell_type": "code",
   "execution_count": null,
   "id": "5350fd44-ce5d-42f3-bd5e-e8e6481f2f65",
   "metadata": {},
   "outputs": [],
   "source": []
  }
 ],
 "metadata": {
  "kernelspec": {
   "display_name": "Python 3 (ipykernel)",
   "language": "python",
   "name": "python3"
  },
  "language_info": {
   "codemirror_mode": {
    "name": "ipython",
    "version": 3
   },
   "file_extension": ".py",
   "mimetype": "text/x-python",
   "name": "python",
   "nbconvert_exporter": "python",
   "pygments_lexer": "ipython3",
   "version": "3.12.7"
  }
 },
 "nbformat": 4,
 "nbformat_minor": 5
}
